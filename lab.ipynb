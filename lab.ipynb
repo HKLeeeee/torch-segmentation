{
 "cells": [
  {
   "cell_type": "code",
   "execution_count": 1,
   "metadata": {},
   "outputs": [
    {
     "ename": "ModuleNotFoundError",
     "evalue": "No module named 'torchsummary'",
     "output_type": "error",
     "traceback": [
      "\u001b[0;31m---------------------------------------------------------------------------\u001b[0m",
      "\u001b[0;31mModuleNotFoundError\u001b[0m                       Traceback (most recent call last)",
      "Cell \u001b[0;32mIn[1], line 12\u001b[0m\n\u001b[1;32m     10\u001b[0m \u001b[38;5;28;01mimport\u001b[39;00m \u001b[38;5;21;01mtorchvision\u001b[39;00m\u001b[38;5;21;01m.\u001b[39;00m\u001b[38;5;21;01mtransforms\u001b[39;00m \u001b[38;5;28;01mas\u001b[39;00m \u001b[38;5;21;01mtransforms\u001b[39;00m\n\u001b[1;32m     11\u001b[0m \u001b[38;5;28;01mimport\u001b[39;00m \u001b[38;5;21;01mtorch\u001b[39;00m\u001b[38;5;21;01m.\u001b[39;00m\u001b[38;5;21;01moptim\u001b[39;00m \u001b[38;5;28;01mas\u001b[39;00m \u001b[38;5;21;01moptim\u001b[39;00m\n\u001b[0;32m---> 12\u001b[0m \u001b[38;5;28;01mfrom\u001b[39;00m \u001b[38;5;21;01mtorchsummary\u001b[39;00m \u001b[38;5;28;01mimport\u001b[39;00m summary \u001b[38;5;28;01mas\u001b[39;00m summary\n\u001b[1;32m     13\u001b[0m \u001b[38;5;28;01mimport\u001b[39;00m \u001b[38;5;21;01mcv2\u001b[39;00m\n\u001b[1;32m     14\u001b[0m \u001b[38;5;28;01mimport\u001b[39;00m \u001b[38;5;21;01mmatplotlib\u001b[39;00m\u001b[38;5;21;01m.\u001b[39;00m\u001b[38;5;21;01mpyplot\u001b[39;00m \u001b[38;5;28;01mas\u001b[39;00m \u001b[38;5;21;01mplt\u001b[39;00m\n",
      "\u001b[0;31mModuleNotFoundError\u001b[0m: No module named 'torchsummary'"
     ]
    }
   ],
   "source": [
    "from data_loader.data_loaders import get_loader, MnistDataLoader\n",
    "import os\n",
    "import matplotlib.pyplot as plt\n",
    "from model.model import *\n",
    "import torch \n",
    "import torch\n",
    "import torch.nn as nn\n",
    "import torch.nn.functional as F\n",
    "import torchvision\n",
    "import torchvision.transforms as transforms\n",
    "import torch.optim as optim\n",
    "from torchsummary import summary as summary\n",
    "import cv2\n",
    "import matplotlib.pyplot as plt\n",
    "import numpy as np\n",
    "from tqdm import tqdm\n",
    "device = torch.device(\"cuda:0\" if torch.cuda.is_available() else \"cpu\")\n",
    "from model import loss\n",
    "import model.model as module_model\n",
    "import model.loss as module_loss\n",
    "import model.metric as module_metric\n",
    "import logger\n",
    "from trainer import Trainer\n",
    "from torch.optim import lr_scheduler\n",
    "from monai.losses import MaskedDiceLoss\n",
    "from monai.metrics import DiceMetric\n",
    "from monai.networks.nets import SwinUNETR, UNet, RegUNet, AttentionUnet"
   ]
  },
  {
   "cell_type": "code",
   "execution_count": 2,
   "metadata": {},
   "outputs": [
    {
     "name": "stdout",
     "output_type": "stream",
     "text": [
      "/home/hklee/workspace/torch-project/data/plant/images/train /home/hklee/workspace/torch-project/data/plant/masks/train\n",
      "/home/hklee/workspace/torch-project/data/plant/images/valid /home/hklee/workspace/torch-project/data/plant/masks/valid\n"
     ]
    }
   ],
   "source": [
    "train_data_loader = get_loader(os.getcwd()+'/data/plant', batch_size=10, mode='train') # binary dataset\n",
    "valid_data_loader = get_loader(os.getcwd()+'/data/plant', batch_size=10, mode='valid')"
   ]
  },
  {
   "cell_type": "code",
   "execution_count": 3,
   "metadata": {},
   "outputs": [
    {
     "name": "stdout",
     "output_type": "stream",
     "text": [
      "torch.Size([10, 3, 240, 240])\n",
      "torch.float32\n",
      "torch.Size([10, 1, 240, 240])\n",
      "torch.float32\n"
     ]
    }
   ],
   "source": [
    "for img ,mask in train_data_loader:\n",
    "    print(img.shape)\n",
    "    print(img.dtype)\n",
    "    print(mask.shape)\n",
    "    print(mask.dtype)\n",
    "    break"
   ]
  },
  {
   "cell_type": "markdown",
   "metadata": {},
   "source": [
    "model.py -> BaseModel 상속으로 바꾸고 학습되는지 보기"
   ]
  },
  {
   "cell_type": "code",
   "execution_count": 4,
   "metadata": {},
   "outputs": [],
   "source": [
    "# model = UNET2().to(device)\n",
    "# summary(model, (3, 240, 240))\t\t  \n",
    "model = AttentionUnet(\n",
    "    spatial_dims= 2,\n",
    "    in_channels=3,\n",
    "    out_channels=1,\n",
    "    channels=[64,128,256,512],\n",
    "    strides=[1,1,1]\n",
    ").to(device)"
   ]
  },
  {
   "cell_type": "code",
   "execution_count": 5,
   "metadata": {},
   "outputs": [],
   "source": [
    "model = module_model.AttU_Net().to(device)"
   ]
  },
  {
   "cell_type": "code",
   "execution_count": 6,
   "metadata": {},
   "outputs": [],
   "source": [
    "# model = module_model.MonaiAttentionUnet().to(device)"
   ]
  },
  {
   "cell_type": "code",
   "execution_count": 7,
   "metadata": {},
   "outputs": [],
   "source": [
    "# init\n",
    "EPOCHS = 10\n",
    "epoch_loss_values = list()\n",
    "# criterion = torch.nn.BCEWithLogitsLoss()\n",
    "criterion = getattr(module_loss, 'bce_logitloss')\n",
    "optimizer = optim.Adam(list(model.parameters()), 1e-5)\n",
    "val_interval = 5"
   ]
  },
  {
   "cell_type": "code",
   "execution_count": 8,
   "metadata": {},
   "outputs": [
    {
     "name": "stderr",
     "output_type": "stream",
     "text": [
      "100%|██████████| 11/11 [00:03<00:00,  2.81it/s]\n"
     ]
    },
    {
     "name": "stdout",
     "output_type": "stream",
     "text": [
      "epoch 1 average loss: -27.5442\n"
     ]
    },
    {
     "name": "stderr",
     "output_type": "stream",
     "text": [
      "100%|██████████| 11/11 [00:02<00:00,  4.82it/s]\n"
     ]
    },
    {
     "name": "stdout",
     "output_type": "stream",
     "text": [
      "epoch 2 average loss: -73.0732\n"
     ]
    },
    {
     "name": "stderr",
     "output_type": "stream",
     "text": [
      "100%|██████████| 11/11 [00:02<00:00,  4.74it/s]\n"
     ]
    },
    {
     "name": "stdout",
     "output_type": "stream",
     "text": [
      "epoch 3 average loss: -106.1514\n"
     ]
    },
    {
     "name": "stderr",
     "output_type": "stream",
     "text": [
      "100%|██████████| 11/11 [00:02<00:00,  4.77it/s]\n"
     ]
    },
    {
     "name": "stdout",
     "output_type": "stream",
     "text": [
      "epoch 4 average loss: -127.8243\n"
     ]
    },
    {
     "name": "stderr",
     "output_type": "stream",
     "text": [
      "100%|██████████| 11/11 [00:02<00:00,  4.54it/s]\n"
     ]
    },
    {
     "name": "stdout",
     "output_type": "stream",
     "text": [
      "epoch 5 average loss: -141.4711\n",
      "check interval!\n"
     ]
    },
    {
     "name": "stderr",
     "output_type": "stream",
     "text": [
      "100%|██████████| 11/11 [00:02<00:00,  4.75it/s]\n"
     ]
    },
    {
     "name": "stdout",
     "output_type": "stream",
     "text": [
      "epoch 6 average loss: -153.0414\n"
     ]
    },
    {
     "name": "stderr",
     "output_type": "stream",
     "text": [
      "100%|██████████| 11/11 [00:02<00:00,  4.80it/s]\n"
     ]
    },
    {
     "name": "stdout",
     "output_type": "stream",
     "text": [
      "epoch 7 average loss: -159.0770\n"
     ]
    },
    {
     "name": "stderr",
     "output_type": "stream",
     "text": [
      " 18%|█▊        | 2/11 [00:00<00:02,  3.74it/s]"
     ]
    }
   ],
   "source": [
    "for epoch in range(EPOCHS, EPOCHS+20):\n",
    "    epoch_loss = 0.0\n",
    "    \n",
    "    model.train() # switch to train mode\n",
    "    for step, batch in enumerate(tqdm(train_data_loader)):\n",
    "        inputs, labels = batch\n",
    "        # inputs = inputs.type('torch.FloatTensor')\n",
    "        # labels = labels.type('torch.FloatTensor')\n",
    "        inputs = inputs.to(device)\n",
    "        labels = labels.unsqueeze(1).to(device) \n",
    "\n",
    "        # forward + backward + optimizer 최적화\n",
    "        outputs = model(inputs)\n",
    "        loss = criterion(outputs, labels) # loss 계산\n",
    "        \n",
    "        optimizer.zero_grad() # gradient(변화도) 0으로 만들고\n",
    "        loss.backward() # 역전파\n",
    "        optimizer.step()\n",
    "\n",
    "        epoch_loss += loss.item()\n",
    "        \n",
    "    epoch_loss /= step\n",
    "    epoch_loss_values.append(epoch_loss)    \n",
    "    print(f\"epoch {epoch + 1} average loss: {epoch_loss:.4f}\")\n",
    "\n",
    "    if (epoch + 1) % val_interval == 0 :\n",
    "        model.eval()\n",
    "        with torch.no_grad():\n",
    "            print('check interval!')\n",
    "        \n",
    "print(\"finished\")\n"
   ]
  },
  {
   "cell_type": "markdown",
   "metadata": {},
   "source": [
    "### Trainer\n",
    "```\n",
    "trainer init\n",
    "    def __init__(self, model, criterion, metric_ftns, optimizer, config, device,\n",
    "                 data_loader, valid_data_loader=None, lr_scheduler=None, len_epoch=None):\n",
    "        super().__init__(model, criterion, metric_ftns, optimizer, config)\n",
    "```"
   ]
  },
  {
   "cell_type": "code",
   "execution_count": 16,
   "metadata": {},
   "outputs": [],
   "source": [
    "# init\n",
    "EPOCHS = 30\n",
    "epoch_loss_values = list()\n",
    "# criterion = torch.nn.BCEWithLogitsLoss()\n",
    "criterion = DiceLoss()\n",
    "optimizer = optim.Adam(list(model.parameters()), 1e-5)\n",
    "val_interval = 5\n",
    "metrics = [getattr(module_metric, 'dice')]"
   ]
  },
  {
   "cell_type": "code",
   "execution_count": 17,
   "metadata": {},
   "outputs": [
    {
     "ename": "NameError",
     "evalue": "name 'config' is not defined",
     "output_type": "error",
     "traceback": [
      "\u001b[0;31m---------------------------------------------------------------------------\u001b[0m",
      "\u001b[0;31mNameError\u001b[0m                                 Traceback (most recent call last)",
      "Cell \u001b[0;32mIn[17], line 5\u001b[0m\n\u001b[1;32m      1\u001b[0m \u001b[39m# build optimizer, learning rate scheduler. delete every lines containing lr_scheduler for disabling scheduler\u001b[39;00m\n\u001b[1;32m      2\u001b[0m lr_scheduler \u001b[39m=\u001b[39m lr_scheduler\u001b[39m.\u001b[39mLambdaLR(optimizer, lr_lambda\u001b[39m=\u001b[39m\u001b[39mlambda\u001b[39;00m epoch : \u001b[39m0.95\u001b[39m\u001b[39m*\u001b[39m\u001b[39m*\u001b[39mepoch)\n\u001b[1;32m      4\u001b[0m trainer \u001b[39m=\u001b[39m Trainer(model, criterion, metrics, optimizer,\n\u001b[0;32m----> 5\u001b[0m                     config\u001b[39m=\u001b[39mconfig,\n\u001b[1;32m      6\u001b[0m                     device\u001b[39m=\u001b[39mdevice,\n\u001b[1;32m      7\u001b[0m                     data_loader\u001b[39m=\u001b[39mtrain_data_loader,\n\u001b[1;32m      8\u001b[0m                     valid_data_loader\u001b[39m=\u001b[39mvalid_data_loader,\n\u001b[1;32m      9\u001b[0m                     lr_scheduler\u001b[39m=\u001b[39mlr_scheduler)\n\u001b[1;32m     11\u001b[0m trainer\u001b[39m.\u001b[39mtrain()\n",
      "\u001b[0;31mNameError\u001b[0m: name 'config' is not defined"
     ]
    }
   ],
   "source": [
    "# build optimizer, learning rate scheduler. delete every lines containing lr_scheduler for disabling scheduler\n",
    "lr_scheduler = lr_scheduler.LambdaLR(optimizer, lr_lambda=lambda epoch : 0.95**epoch)\n",
    "\n",
    "trainer = Trainer(model, criterion, metrics, optimizer,\n",
    "                    config=config,\n",
    "                    device=device,\n",
    "                    data_loader=train_data_loader,\n",
    "                    valid_data_loader=valid_data_loader,\n",
    "                    lr_scheduler=lr_scheduler)\n",
    "\n",
    "trainer.train()\n"
   ]
  },
  {
   "cell_type": "markdown",
   "metadata": {},
   "source": [
    "### Inference"
   ]
  },
  {
   "cell_type": "code",
   "execution_count": 11,
   "metadata": {},
   "outputs": [
    {
     "name": "stdout",
     "output_type": "stream",
     "text": [
      "./data/plant/images/test ./data/plant/masks/test\n",
      "torch.Size([10, 3, 240, 240])\n"
     ]
    }
   ],
   "source": [
    "test_loader = get_loader('./data/plant', mode='test', batch_size=10)\n",
    "for i in test_loader:\n",
    "    print(i[0].shape)\n",
    "    break"
   ]
  },
  {
   "cell_type": "code",
   "execution_count": 12,
   "metadata": {},
   "outputs": [],
   "source": [
    "for img, mask in test_loader:\n",
    "    img = img.to(device)\n",
    "    outputs = model(img)\n",
    "    break"
   ]
  },
  {
   "cell_type": "code",
   "execution_count": 13,
   "metadata": {},
   "outputs": [],
   "source": [
    "outputs = outputs.to('cpu')\n",
    "outputs = torch.sigmoid(outputs)\n",
    "outputs = (outputs > 0.5).float()"
   ]
  },
  {
   "cell_type": "code",
   "execution_count": 14,
   "metadata": {},
   "outputs": [
    {
     "data": {
      "image/png": "[encoded data removed]",
      "text/plain": [
       "<Figure size 640x480 with 10 Axes>"
      ]
     },
     "metadata": {},
     "output_type": "display_data"
    }
   ],
   "source": [
    "numpy_outputs = outputs.to('cpu').detach().numpy()\n",
    "for i in range(10):\n",
    "    plt.subplot(2, 5, i+1)\n",
    "    result = outputs[i, :, :, :].squeeze()\n",
    "    plt.imshow(result, cmap='bone')\n",
    "    plt.axis('off')\n",
    "    \n",
    "plt.show()"
   ]
  },
  {
   "cell_type": "code",
   "execution_count": 15,
   "metadata": {},
   "outputs": [
    {
     "ename": "",
     "evalue": "",
     "output_type": "error",
     "traceback": [
      "\u001b[1;31mThe Kernel crashed while executing code in the the current cell or a previous cell. Please review the code in the cell(s) to identify a possible cause of the failure. Click <a href='https://aka.ms/vscodeJupyterKernelCrash'>here</a> for more info. View Jupyter <a href='command:jupyter.viewOutput'>log</a> for further details."
     ]
    }
   ],
   "source": [
    "file_name = 'monai_unet_epoch30_loss(Dice).png'\n",
    "torchvision.utils.save_image(outputs, f'./saved/{file_name}', nrow=5)"
   ]
  },
  {
   "cell_type": "code",
   "execution_count": null,
   "metadata": {},
   "outputs": [],
   "source": [
    "img = img.to('cpu')\n",
    "img = img.detach().numpy()"
   ]
  },
  {
   "cell_type": "code",
   "execution_count": null,
   "metadata": {},
   "outputs": [],
   "source": [
    "for i in range(10):\n",
    "    plt.subplot(2, 5, i+1)\n",
    "    result = img[i, :, :, :].squeeze()\n",
    "    result = result.transpose(1,2,0)\n",
    "    plt.imshow(result, cmap='bone')\n",
    "    plt.axis('off')\n",
    "    \n",
    "plt.show()\n"
   ]
  },
  {
   "cell_type": "code",
   "execution_count": null,
   "metadata": {},
   "outputs": [],
   "source": [
    "mask = mask.to('cpu').detach().numpy()\n",
    "for i in range(10):\n",
    "    plt.subplot(2, 5, i+1)\n",
    "    result = mask[i, :, :].squeeze()\n",
    "    # result = result.transpose(1,2,0)\n",
    "    plt.imshow(result, cmap='bone')\n",
    "    plt.axis('off')\n",
    "    \n",
    "plt.show()"
   ]
  },
  {
   "cell_type": "markdown",
   "metadata": {},
   "source": [
    "# Monai Test"
   ]
  },
  {
   "cell_type": "code",
   "execution_count": 4,
   "metadata": {},
   "outputs": [],
   "source": [
    "from monai.losses import DiceLoss\n",
    "from monai.metrics import DiceMetric\n",
    "from monai.networks.nets import SwinUNETR, UNet, RegUNet, AttentionUnet\n",
    "\n",
    "model = UNet(\n",
    "    spatial_dims= 2,\n",
    "    in_channels=3,\n",
    "    out_channels=1,\n",
    "    channels=[64,128,256,512],\n",
    "    strides=[1,1,1]\n",
    ")"
   ]
  },
  {
   "cell_type": "code",
   "execution_count": null,
   "metadata": {},
   "outputs": [],
   "source": [
    "model = SwinUNETR(\n",
    "        img_size=(96, 96, 96),\n",
    "        in_channels=3,\n",
    "        out_channels=4,\n",
    "        feature_size=48\n",
    "    )"
   ]
  },
  {
   "cell_type": "code",
   "execution_count": 12,
   "metadata": {},
   "outputs": [],
   "source": [
    "a = np.zeros(shape=(240,240))"
   ]
  },
  {
   "cell_type": "code",
   "execution_count": 23,
   "metadata": {},
   "outputs": [
    {
     "data": {
      "text/plain": [
       "torch.Size([1, 240, 240])"
      ]
     },
     "execution_count": 23,
     "metadata": {},
     "output_type": "execute_result"
    }
   ],
   "source": [
    "t = torch.tensor(a)\n",
    "t.shape\n",
    "t = torch.unsqueeze(t, 0)\n",
    "t.shape"
   ]
  },
  {
   "cell_type": "code",
   "execution_count": null,
   "metadata": {},
   "outputs": [],
   "source": [
    "model.to(device)"
   ]
  },
  {
   "cell_type": "code",
   "execution_count": null,
   "metadata": {},
   "outputs": [],
   "source": [
    "summary(model, (3, 240, 240))"
   ]
  },
  {
   "cell_type": "code",
   "execution_count": null,
   "metadata": {},
   "outputs": [],
   "source": []
  }
 ],
 "metadata": {
  "kernelspec": {
   "display_name": "Python 3 (ipykernel)",
   "language": "python",
   "name": "python3"
  },
  "language_info": {
   "codemirror_mode": {
    "name": "ipython",
    "version": 3
   },
   "file_extension": ".py",
   "mimetype": "text/x-python",
   "name": "python",
   "nbconvert_exporter": "python",
   "pygments_lexer": "ipython3",
   "version": "3.10.8"
  },
  "vscode": {
   "interpreter": {
    "hash": "c45b1e5adc3ad908ce4421ea0a9cbac3faff5d7d48500187266ce4b08c805d08"
   }
  }
 },
 "nbformat": 4,
 "nbformat_minor": 2
}
