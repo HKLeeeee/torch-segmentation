{
 "cells": [
  {
   "attachments": {},
   "cell_type": "markdown",
   "metadata": {},
   "source": [
    "# Import"
   ]
  },
  {
   "cell_type": "code",
   "execution_count": 1,
   "metadata": {},
   "outputs": [],
   "source": [
    "import data_loader.data_loaders as module_loader\n",
    "import os\n",
    "import matplotlib.pyplot as plt\n",
    "from model.model import *\n",
    "import torch \n",
    "import torch\n",
    "import torch.nn as nn\n",
    "import torch.nn.functional as F\n",
    "import torchvision\n",
    "import torchvision.transforms as transforms\n",
    "import torch.optim as optim\n",
    "from torchsummary import summary as summary\n",
    "import cv2\n",
    "import matplotlib.pyplot as plt\n",
    "import numpy as np\n",
    "from tqdm import tqdm\n",
    "device = torch.device(\"cuda:0\" if torch.cuda.is_available() else \"cpu\")\n",
    "from model import loss\n",
    "import model.model as module_model\n",
    "import model.loss as module_loss\n",
    "import model.metric as module_metric\n",
    "# import logger\n",
    "from trainer import Trainer\n",
    "from torch.optim import lr_scheduler\n",
    "from monai.losses import MaskedDiceLoss\n",
    "from monai.metrics import DiceMetric\n",
    "from monai.networks.nets import SwinUNETR, UNet, RegUNet, AttentionUnet"
   ]
  },
  {
   "cell_type": "code",
   "execution_count": 2,
   "metadata": {},
   "outputs": [
    {
     "name": "stdout",
     "output_type": "stream",
     "text": [
      "/home/hklee/workspace/torch-project/data/plant/images/train /home/hklee/workspace/torch-project/data/plant/masks/train\n",
      "/home/hklee/workspace/torch-project/data/plant/images/valid /home/hklee/workspace/torch-project/data/plant/masks/valid\n"
     ]
    }
   ],
   "source": [
    "train_data_loader =\\\n",
    "    module_loader.MultiClassSegmentationLoader(\n",
    "        os.getcwd()+'/data/plant', \n",
    "        num_classes=4,\n",
    "        batch_size=10, \n",
    "        mode='train') # binary dataset\n",
    "    \n",
    "valid_data_loader = \\\n",
    "    module_loader.MultiClassSegmentationLoader(\n",
    "        os.getcwd()+'/data/plant', \n",
    "        num_classes=4,\n",
    "        batch_size=10, \n",
    "        mode='valid')"
   ]
  },
  {
   "cell_type": "code",
   "execution_count": 3,
   "metadata": {},
   "outputs": [
    {
     "name": "stdout",
     "output_type": "stream",
     "text": [
      "torch.Size([10, 3, 240, 240])\n",
      "torch.float32\n",
      "torch.Size([10, 4, 240, 240])\n",
      "torch.int64\n"
     ]
    }
   ],
   "source": [
    "for img ,mask in train_data_loader:\n",
    "    print(img.shape)\n",
    "    print(img.dtype)\n",
    "    print(mask.shape)\n",
    "    print(mask.dtype)\n",
    "    break"
   ]
  },
  {
   "cell_type": "markdown",
   "metadata": {},
   "source": [
    "model.py -> BaseModel 상속으로 바꾸고 학습되는지 보기"
   ]
  },
  {
   "cell_type": "code",
   "execution_count": 4,
   "metadata": {},
   "outputs": [
    {
     "name": "stdout",
     "output_type": "stream",
     "text": [
      "----------------------------------------------------------------\n",
      "        Layer (type)               Output Shape         Param #\n",
      "================================================================\n",
      "            Conv2d-1         [-1, 64, 240, 240]           1,792\n",
      "    InstanceNorm2d-2         [-1, 64, 240, 240]               0\n",
      "           Dropout-3         [-1, 64, 240, 240]               0\n",
      "             PReLU-4         [-1, 64, 240, 240]               1\n",
      "            Conv2d-5        [-1, 128, 240, 240]          73,856\n",
      "    InstanceNorm2d-6        [-1, 128, 240, 240]               0\n",
      "           Dropout-7        [-1, 128, 240, 240]               0\n",
      "             PReLU-8        [-1, 128, 240, 240]               1\n",
      "            Conv2d-9        [-1, 256, 240, 240]         295,168\n",
      "   InstanceNorm2d-10        [-1, 256, 240, 240]               0\n",
      "          Dropout-11        [-1, 256, 240, 240]               0\n",
      "            PReLU-12        [-1, 256, 240, 240]               1\n",
      "           Conv2d-13        [-1, 512, 240, 240]       1,180,160\n",
      "   InstanceNorm2d-14        [-1, 512, 240, 240]               0\n",
      "          Dropout-15        [-1, 512, 240, 240]               0\n",
      "            PReLU-16        [-1, 512, 240, 240]               1\n",
      "   SkipConnection-17        [-1, 768, 240, 240]               0\n",
      "  ConvTranspose2d-18        [-1, 128, 240, 240]         884,864\n",
      "   InstanceNorm2d-19        [-1, 128, 240, 240]               0\n",
      "          Dropout-20        [-1, 128, 240, 240]               0\n",
      "            PReLU-21        [-1, 128, 240, 240]               1\n",
      "   SkipConnection-22        [-1, 256, 240, 240]               0\n",
      "  ConvTranspose2d-23         [-1, 64, 240, 240]         147,520\n",
      "   InstanceNorm2d-24         [-1, 64, 240, 240]               0\n",
      "          Dropout-25         [-1, 64, 240, 240]               0\n",
      "            PReLU-26         [-1, 64, 240, 240]               1\n",
      "   SkipConnection-27        [-1, 128, 240, 240]               0\n",
      "  ConvTranspose2d-28          [-1, 4, 240, 240]           4,612\n",
      "================================================================\n",
      "Total params: 2,587,978\n",
      "Trainable params: 2,587,978\n",
      "Non-trainable params: 0\n",
      "----------------------------------------------------------------\n",
      "Input size (MB): 0.66\n",
      "Forward/backward pass size (MB): 2533.01\n",
      "Params size (MB): 9.87\n",
      "Estimated Total Size (MB): 2543.54\n",
      "----------------------------------------------------------------\n"
     ]
    }
   ],
   "source": [
    "# model = U_Net(img_ch=3, output_ch=4).to(device)\n",
    "\t  \n",
    "model = UNet(\n",
    "    spatial_dims= 2,\n",
    "    in_channels=3,\n",
    "    out_channels=4,\n",
    "    channels=[64,128,256,512],\n",
    "    strides=[1,1,1]\n",
    ").to(device)\n",
    "summary(model, (3, 240, 240))"
   ]
  },
  {
   "cell_type": "code",
   "execution_count": 5,
   "metadata": {},
   "outputs": [],
   "source": [
    "# init\n",
    "EPOCHS = 10\n",
    "epoch_loss_values = list()\n",
    "# criterion = torch.nn.BCEWithLogitsLoss()\n",
    "criterion = getattr(module_loss, 'cross_entropy')\n",
    "optimizer = optim.Adam(list(model.parameters()), 1e-5)\n",
    "val_interval = 5"
   ]
  },
  {
   "cell_type": "code",
   "execution_count": 6,
   "metadata": {},
   "outputs": [
    {
     "name": "stderr",
     "output_type": "stream",
     "text": [
      "  0%|          | 0/11 [00:00<?, ?it/s]"
     ]
    },
    {
     "name": "stdout",
     "output_type": "stream",
     "text": [
      "torch.Size([10, 4, 240, 240]) torch.Size([10, 1, 4, 240, 240])\n"
     ]
    },
    {
     "name": "stderr",
     "output_type": "stream",
     "text": [
      "\n"
     ]
    },
    {
     "ename": "RuntimeError",
     "evalue": "Expected floating point type for target with class probabilities, got Long",
     "output_type": "error",
     "traceback": [
      "\u001b[0;31m---------------------------------------------------------------------------\u001b[0m",
      "\u001b[0;31mRuntimeError\u001b[0m                              Traceback (most recent call last)",
      "Cell \u001b[0;32mIn[6], line 14\u001b[0m\n\u001b[1;32m     12\u001b[0m \u001b[39m# forward + backward + optimizer 최적화\u001b[39;00m\n\u001b[1;32m     13\u001b[0m outputs \u001b[39m=\u001b[39m model(inputs)\n\u001b[0;32m---> 14\u001b[0m loss \u001b[39m=\u001b[39m criterion(outputs, labels) \u001b[39m# loss 계산\u001b[39;00m\n\u001b[1;32m     16\u001b[0m optimizer\u001b[39m.\u001b[39mzero_grad() \u001b[39m# gradient(변화도) 0으로 만들고\u001b[39;00m\n\u001b[1;32m     17\u001b[0m loss\u001b[39m.\u001b[39mbackward() \u001b[39m# 역전파\u001b[39;00m\n",
      "File \u001b[0;32m~/workspace/torch-project/model/loss.py:11\u001b[0m, in \u001b[0;36mcross_entropy\u001b[0;34m(output, target)\u001b[0m\n\u001b[1;32m      9\u001b[0m loss \u001b[39m=\u001b[39m torch\u001b[39m.\u001b[39mnn\u001b[39m.\u001b[39mCrossEntropyLoss()\n\u001b[1;32m     10\u001b[0m \u001b[39mprint\u001b[39m(output\u001b[39m.\u001b[39mshape, target\u001b[39m.\u001b[39mshape)\n\u001b[0;32m---> 11\u001b[0m \u001b[39mreturn\u001b[39;00m loss(output\u001b[39m.\u001b[39;49msqueeze(), target\u001b[39m.\u001b[39;49msqueeze())\n",
      "File \u001b[0;32m~/anaconda3/envs/workspace/lib/python3.8/site-packages/torch/nn/modules/module.py:1194\u001b[0m, in \u001b[0;36mModule._call_impl\u001b[0;34m(self, *input, **kwargs)\u001b[0m\n\u001b[1;32m   1190\u001b[0m \u001b[39m# If we don't have any hooks, we want to skip the rest of the logic in\u001b[39;00m\n\u001b[1;32m   1191\u001b[0m \u001b[39m# this function, and just call forward.\u001b[39;00m\n\u001b[1;32m   1192\u001b[0m \u001b[39mif\u001b[39;00m \u001b[39mnot\u001b[39;00m (\u001b[39mself\u001b[39m\u001b[39m.\u001b[39m_backward_hooks \u001b[39mor\u001b[39;00m \u001b[39mself\u001b[39m\u001b[39m.\u001b[39m_forward_hooks \u001b[39mor\u001b[39;00m \u001b[39mself\u001b[39m\u001b[39m.\u001b[39m_forward_pre_hooks \u001b[39mor\u001b[39;00m _global_backward_hooks\n\u001b[1;32m   1193\u001b[0m         \u001b[39mor\u001b[39;00m _global_forward_hooks \u001b[39mor\u001b[39;00m _global_forward_pre_hooks):\n\u001b[0;32m-> 1194\u001b[0m     \u001b[39mreturn\u001b[39;00m forward_call(\u001b[39m*\u001b[39;49m\u001b[39minput\u001b[39;49m, \u001b[39m*\u001b[39;49m\u001b[39m*\u001b[39;49mkwargs)\n\u001b[1;32m   1195\u001b[0m \u001b[39m# Do not call functions when jit is used\u001b[39;00m\n\u001b[1;32m   1196\u001b[0m full_backward_hooks, non_full_backward_hooks \u001b[39m=\u001b[39m [], []\n",
      "File \u001b[0;32m~/anaconda3/envs/workspace/lib/python3.8/site-packages/torch/nn/modules/loss.py:1174\u001b[0m, in \u001b[0;36mCrossEntropyLoss.forward\u001b[0;34m(self, input, target)\u001b[0m\n\u001b[1;32m   1173\u001b[0m \u001b[39mdef\u001b[39;00m \u001b[39mforward\u001b[39m(\u001b[39mself\u001b[39m, \u001b[39minput\u001b[39m: Tensor, target: Tensor) \u001b[39m-\u001b[39m\u001b[39m>\u001b[39m Tensor:\n\u001b[0;32m-> 1174\u001b[0m     \u001b[39mreturn\u001b[39;00m F\u001b[39m.\u001b[39;49mcross_entropy(\u001b[39minput\u001b[39;49m, target, weight\u001b[39m=\u001b[39;49m\u001b[39mself\u001b[39;49m\u001b[39m.\u001b[39;49mweight,\n\u001b[1;32m   1175\u001b[0m                            ignore_index\u001b[39m=\u001b[39;49m\u001b[39mself\u001b[39;49m\u001b[39m.\u001b[39;49mignore_index, reduction\u001b[39m=\u001b[39;49m\u001b[39mself\u001b[39;49m\u001b[39m.\u001b[39;49mreduction,\n\u001b[1;32m   1176\u001b[0m                            label_smoothing\u001b[39m=\u001b[39;49m\u001b[39mself\u001b[39;49m\u001b[39m.\u001b[39;49mlabel_smoothing)\n",
      "File \u001b[0;32m~/anaconda3/envs/workspace/lib/python3.8/site-packages/torch/nn/functional.py:3026\u001b[0m, in \u001b[0;36mcross_entropy\u001b[0;34m(input, target, weight, size_average, ignore_index, reduce, reduction, label_smoothing)\u001b[0m\n\u001b[1;32m   3024\u001b[0m \u001b[39mif\u001b[39;00m size_average \u001b[39mis\u001b[39;00m \u001b[39mnot\u001b[39;00m \u001b[39mNone\u001b[39;00m \u001b[39mor\u001b[39;00m reduce \u001b[39mis\u001b[39;00m \u001b[39mnot\u001b[39;00m \u001b[39mNone\u001b[39;00m:\n\u001b[1;32m   3025\u001b[0m     reduction \u001b[39m=\u001b[39m _Reduction\u001b[39m.\u001b[39mlegacy_get_string(size_average, reduce)\n\u001b[0;32m-> 3026\u001b[0m \u001b[39mreturn\u001b[39;00m torch\u001b[39m.\u001b[39;49m_C\u001b[39m.\u001b[39;49m_nn\u001b[39m.\u001b[39;49mcross_entropy_loss(\u001b[39minput\u001b[39;49m, target, weight, _Reduction\u001b[39m.\u001b[39;49mget_enum(reduction), ignore_index, label_smoothing)\n",
      "\u001b[0;31mRuntimeError\u001b[0m: Expected floating point type for target with class probabilities, got Long"
     ]
    }
   ],
   "source": [
    "for epoch in range(EPOCHS, EPOCHS+20):\n",
    "    epoch_loss = 0.0\n",
    "    \n",
    "    model.train() # switch to train mode\n",
    "    for step, batch in enumerate(tqdm(train_data_loader)):\n",
    "        inputs, labels = batch\n",
    "        # inputs = inputs.type('torch.FloatTensor')\n",
    "        # labels = labels.type('torch.FloatTensor')\n",
    "        inputs = inputs.to(device)\n",
    "        labels = labels.to(device) \n",
    "\n",
    "        # forward + backward + optimizer 최적화\n",
    "        outputs = model(inputs)\n",
    "        loss = criterion(outputs, labels) # loss 계산\n",
    "        \n",
    "        optimizer.zero_grad() # gradient(변화도) 0으로 만들고\n",
    "        loss.backward() # 역전파\n",
    "        optimizer.step()\n",
    "\n",
    "        epoch_loss += loss.item()\n",
    "        \n",
    "    epoch_loss /= step\n",
    "    epoch_loss_values.append(epoch_loss)    \n",
    "    print(f\"epoch {epoch + 1} average loss: {epoch_loss:.4f}\")\n",
    "\n",
    "    if (epoch + 1) % val_interval == 0 :\n",
    "        model.eval()\n",
    "        with torch.no_grad():\n",
    "            print('check interval!')\n",
    "        \n",
    "print(\"finished\")\n"
   ]
  },
  {
   "cell_type": "markdown",
   "metadata": {},
   "source": [
    "### Trainer\n",
    "```\n",
    "trainer init\n",
    "    def __init__(self, model, criterion, metric_ftns, optimizer, config, device,\n",
    "                 data_loader, valid_data_loader=None, lr_scheduler=None, len_epoch=None):\n",
    "        super().__init__(model, criterion, metric_ftns, optimizer, config)\n",
    "```"
   ]
  },
  {
   "cell_type": "code",
   "execution_count": null,
   "metadata": {},
   "outputs": [],
   "source": [
    "# init\n",
    "EPOCHS = 30\n",
    "epoch_loss_values = list()\n",
    "# criterion = torch.nn.BCEWithLogitsLoss()\n",
    "criterion = DiceLoss()\n",
    "optimizer = optim.Adam(list(model.parameters()), 1e-5)\n",
    "val_interval = 5\n",
    "metrics = [getattr(module_metric, 'dice')]"
   ]
  },
  {
   "cell_type": "code",
   "execution_count": null,
   "metadata": {},
   "outputs": [],
   "source": [
    "# build optimizer, learning rate scheduler. delete every lines containing lr_scheduler for disabling scheduler\n",
    "lr_scheduler = lr_scheduler.LambdaLR(optimizer, lr_lambda=lambda epoch : 0.95**epoch)\n",
    "\n",
    "trainer = Trainer(model, criterion, metrics, optimizer,\n",
    "                    config=config,\n",
    "                    device=device,\n",
    "                    data_loader=train_data_loader,\n",
    "                    valid_data_loader=valid_data_loader,\n",
    "                    lr_scheduler=lr_scheduler)\n",
    "\n",
    "trainer.train()\n"
   ]
  },
  {
   "cell_type": "markdown",
   "metadata": {},
   "source": [
    "### Inference"
   ]
  },
  {
   "cell_type": "code",
   "execution_count": null,
   "metadata": {},
   "outputs": [
    {
     "name": "stdout",
     "output_type": "stream",
     "text": [
      "./data/plant/images/test ./data/plant/masks/test\n",
      "torch.Size([10, 3, 240, 240])\n"
     ]
    }
   ],
   "source": [
    "test_loader = get_loader('./data/plant', mode='test', batch_size=10)\n",
    "for i in test_loader:\n",
    "    print(i[0].shape)\n",
    "    break"
   ]
  },
  {
   "cell_type": "code",
   "execution_count": null,
   "metadata": {},
   "outputs": [
    {
     "name": "stdout",
     "output_type": "stream",
     "text": [
      "torch.Size([10, 3, 240, 240])\n",
      "tensor([0.0000, 0.0039, 0.0078, 0.0118, 0.0157, 0.0196, 0.0235, 0.0275, 0.0314,\n",
      "        0.0353, 0.0392, 0.0431, 0.0471, 0.0510, 0.0549, 0.0588, 0.0627, 0.0667,\n",
      "        0.0706, 0.0745, 0.0784, 0.0824, 0.0863, 0.0902, 0.0941, 0.0980, 0.1020,\n",
      "        0.1059, 0.1098, 0.1137, 0.1176, 0.1216, 0.1255, 0.1294, 0.1333, 0.1373,\n",
      "        0.1412, 0.1451, 0.1490, 0.1529, 0.1569, 0.1608, 0.1647, 0.1686, 0.1725,\n",
      "        0.1765, 0.1804, 0.1843, 0.1882, 0.1922, 0.1961, 0.2000, 0.2039, 0.2078,\n",
      "        0.2118, 0.2157, 0.2196, 0.2235, 0.2275, 0.2314, 0.2353, 0.2392, 0.2431,\n",
      "        0.2471, 0.2510, 0.2549, 0.2588, 0.2627, 0.2667, 0.2706, 0.2745, 0.2784,\n",
      "        0.2824, 0.2863, 0.2902, 0.2941, 0.2980, 0.3020, 0.3059, 0.3098, 0.3137,\n",
      "        0.3176, 0.3216, 0.3255, 0.3294, 0.3333, 0.3373, 0.3412, 0.3451, 0.3490,\n",
      "        0.3529, 0.3569, 0.3608, 0.3647, 0.3686, 0.3725, 0.3765, 0.3804, 0.3843,\n",
      "        0.3882, 0.3922, 0.3961, 0.4000, 0.4039, 0.4078, 0.4118, 0.4157, 0.4196,\n",
      "        0.4235, 0.4275, 0.4314, 0.4353, 0.4392, 0.4431, 0.4471, 0.4510, 0.4549,\n",
      "        0.4588, 0.4627, 0.4667, 0.4706, 0.4745, 0.4784, 0.4824, 0.4863, 0.4902,\n",
      "        0.4941, 0.4980, 0.5020, 0.5059, 0.5098, 0.5137, 0.5176, 0.5216, 0.5255,\n",
      "        0.5294, 0.5333, 0.5373, 0.5412, 0.5451, 0.5490, 0.5529, 0.5569, 0.5608,\n",
      "        0.5647, 0.5686, 0.5725, 0.5765, 0.5804, 0.5843, 0.5882, 0.5922, 0.5961,\n",
      "        0.6000, 0.6039, 0.6078, 0.6118, 0.6157, 0.6196, 0.6235, 0.6275, 0.6314,\n",
      "        0.6353, 0.6392, 0.6431, 0.6471, 0.6510, 0.6549, 0.6588, 0.6627, 0.6667,\n",
      "        0.6706, 0.6745, 0.6784, 0.6824, 0.6863, 0.6902, 0.6941, 0.6980, 0.7020,\n",
      "        0.7059, 0.7098, 0.7137, 0.7176, 0.7216, 0.7255, 0.7294, 0.7333, 0.7373,\n",
      "        0.7412, 0.7451, 0.7490, 0.7529, 0.7569, 0.7608, 0.7647, 0.7686, 0.7725,\n",
      "        0.7765, 0.7804, 0.7843, 0.7882, 0.7922, 0.7961, 0.8000, 0.8039, 0.8078,\n",
      "        0.8118, 0.8157, 0.8196, 0.8235, 0.8275, 0.8314, 0.8353, 0.8392, 0.8431,\n",
      "        0.8471, 0.8510, 0.8549, 0.8588, 0.8627, 0.8667, 0.8706, 0.8745, 0.8784,\n",
      "        0.8824, 0.8863, 0.8902, 0.8941, 0.8980, 0.9020, 0.9059, 0.9098, 0.9137,\n",
      "        0.9176, 0.9216, 0.9255, 0.9294, 0.9333, 0.9373, 0.9412, 0.9451, 0.9490,\n",
      "        0.9529, 0.9569, 0.9608, 0.9647, 0.9686, 0.9725, 0.9765, 0.9804, 0.9843,\n",
      "        0.9882, 0.9922, 0.9961, 1.0000])\n",
      "torch.Size([10, 1, 240, 240])\n",
      "tensor([0.0000, 0.0039])\n"
     ]
    }
   ],
   "source": [
    "iter_ = iter(test_loader)\n",
    "img, mask = next(iter_)\n",
    "print(img.shape)\n",
    "print(torch.unique(img))\n",
    "print(mask.shape)\n",
    "print(torch.unique(mask))"
   ]
  },
  {
   "cell_type": "code",
   "execution_count": null,
   "metadata": {},
   "outputs": [],
   "source": [
    "for img, mask in test_loader:\n",
    "    img = img.to(device)\n",
    "    # outputs = model(img)\n",
    "    break"
   ]
  },
  {
   "cell_type": "code",
   "execution_count": null,
   "metadata": {},
   "outputs": [],
   "source": [
    "outputs = outputs.to('cpu')\n",
    "outputs = torch.sigmoid(outputs)\n",
    "outputs = (outputs > 0.5).float()"
   ]
  },
  {
   "cell_type": "code",
   "execution_count": null,
   "metadata": {},
   "outputs": [],
   "source": [
    "numpy_outputs = outputs.to('cpu').detach().numpy()\n",
    "for i in range(10):\n",
    "    plt.subplot(2, 5, i+1)\n",
    "    result = outputs[i, :, :, :].squeeze()\n",
    "    plt.imshow(result, cmap='bone')\n",
    "    plt.axis('off')\n",
    "    \n",
    "plt.show()"
   ]
  },
  {
   "cell_type": "code",
   "execution_count": null,
   "metadata": {},
   "outputs": [],
   "source": [
    "file_name = 'monai_unet_epoch30_loss(Dice).png'\n",
    "torchvision.utils.save_image(outputs, f'./saved/{file_name}', nrow=5)"
   ]
  },
  {
   "cell_type": "code",
   "execution_count": null,
   "metadata": {},
   "outputs": [],
   "source": [
    "img = img.to('cpu')\n",
    "img = img.detach().numpy()"
   ]
  },
  {
   "cell_type": "code",
   "execution_count": null,
   "metadata": {},
   "outputs": [],
   "source": [
    "for i in range(10):\n",
    "    plt.subplot(2, 5, i+1)\n",
    "    result = img[i, :, :, :].squeeze()\n",
    "    result = result.transpose(1,2,0)\n",
    "    plt.imshow(result, cmap='bone')\n",
    "    plt.axis('off')\n",
    "    \n",
    "plt.show()\n"
   ]
  },
  {
   "cell_type": "code",
   "execution_count": null,
   "metadata": {},
   "outputs": [],
   "source": [
    "mask = mask.to('cpu').detach().numpy()\n",
    "for i in range(10):\n",
    "    plt.subplot(2, 5, i+1)\n",
    "    result = mask[i, :, :].squeeze()\n",
    "    # result = result.transpose(1,2,0)\n",
    "    plt.imshow(result, cmap='bone')\n",
    "    plt.axis('off')\n",
    "    \n",
    "plt.show()"
   ]
  },
  {
   "cell_type": "markdown",
   "metadata": {},
   "source": [
    "# Monai Test"
   ]
  },
  {
   "cell_type": "code",
   "execution_count": null,
   "metadata": {},
   "outputs": [],
   "source": [
    "from monai.losses import DiceLoss\n",
    "from monai.metrics import DiceMetric\n",
    "from monai.networks.nets import SwinUNETR, UNet, RegUNet, AttentionUnet\n",
    "\n",
    "model = UNet(\n",
    "    spatial_dims= 2,\n",
    "    in_channels=3,\n",
    "    out_channels=1,\n",
    "    channels=[64,128,256,512],\n",
    "    strides=[1,1,1]\n",
    ")"
   ]
  },
  {
   "cell_type": "code",
   "execution_count": null,
   "metadata": {},
   "outputs": [],
   "source": [
    "model = SwinUNETR(\n",
    "        img_size=(96, 96, 96),\n",
    "        in_channels=3,\n",
    "        out_channels=4,\n",
    "        feature_size=48\n",
    "    )"
   ]
  },
  {
   "cell_type": "code",
   "execution_count": null,
   "metadata": {},
   "outputs": [],
   "source": [
    "a = np.zeros(shape=(240,240))"
   ]
  },
  {
   "cell_type": "code",
   "execution_count": null,
   "metadata": {},
   "outputs": [],
   "source": [
    "t = torch.tensor(a)\n",
    "t.shape\n",
    "t = torch.unsqueeze(t, 0)\n",
    "t.shape"
   ]
  },
  {
   "cell_type": "code",
   "execution_count": null,
   "metadata": {},
   "outputs": [],
   "source": [
    "model.to(device)"
   ]
  },
  {
   "cell_type": "code",
   "execution_count": null,
   "metadata": {},
   "outputs": [],
   "source": [
    "summary(model, (3, 240, 240))"
   ]
  },
  {
   "attachments": {},
   "cell_type": "markdown",
   "metadata": {},
   "source": [
    "# Dataset, DataLoader"
   ]
  },
  {
   "cell_type": "code",
   "execution_count": null,
   "metadata": {},
   "outputs": [],
   "source": [
    "from data_loader.dataset import SegmentationDataset, MultiClassSegmentationDataset\n",
    "from data_loader.data_loaders import SegmentationLoader, get_loader\n",
    "import torch\n",
    "import numpy as np\n",
    "import matplotlib.pyplot as plt"
   ]
  },
  {
   "cell_type": "code",
   "execution_count": null,
   "metadata": {},
   "outputs": [
    {
     "name": "stdout",
     "output_type": "stream",
     "text": [
      "./data/images/train ./data/masks/train\n"
     ]
    }
   ],
   "source": [
    "train_loader = SegmentationLoader(data_dir = './data',\n",
    "                                   batch_size = 10,\n",
    "                                   mode='train',\n",
    "                                   image_size=240)"
   ]
  },
  {
   "cell_type": "code",
   "execution_count": null,
   "metadata": {},
   "outputs": [],
   "source": [
    "iter_ = iter(train_loader)\n",
    "data=  next(iter_)"
   ]
  },
  {
   "cell_type": "code",
   "execution_count": null,
   "metadata": {},
   "outputs": [
    {
     "name": "stdout",
     "output_type": "stream",
     "text": [
      "<class 'torch.Tensor'>\n",
      "torch.float32\n",
      "torch.Size([10, 3, 240, 240])\n",
      "<class 'torch.Tensor'>\n",
      "torch.float32\n",
      "torch.Size([10, 1, 240, 240])\n"
     ]
    },
    {
     "data": {
      "text/plain": [
       "tensor([0., 1., 2., 3.])"
      ]
     },
     "execution_count": 5,
     "metadata": {},
     "output_type": "execute_result"
    }
   ],
   "source": [
    "image, mask = data\n",
    "print(type(image))\n",
    "print(image.dtype)\n",
    "print(image.shape)\n",
    "print(type(mask))\n",
    "print(mask.dtype)\n",
    "print(mask.shape)\n",
    "torch.unique(mask)\n"
   ]
  },
  {
   "cell_type": "code",
   "execution_count": null,
   "metadata": {},
   "outputs": [
    {
     "data": {
      "image/png": "[encoded data removed]",
      "text/plain": [
       "<Figure size 2000x2000 with 20 Axes>"
      ]
     },
     "metadata": {},
     "output_type": "display_data"
    }
   ],
   "source": [
    "fig, (ax1, ax2) = plt.subplots(2, 10, figsize=(20,20))\n",
    "\n",
    "for i in range(10):\n",
    "    ax1[i].imshow(image[i, :, :, :].permute(1,2,0))\n",
    "    ax2[i].imshow(mask[i,0,:,:])\n",
    "    ax1[i].axis('off')\n",
    "    ax2[i].axis('off')\n",
    "    \n",
    "plt.tight_layout()\n",
    "plt.show()"
   ]
  },
  {
   "cell_type": "code",
   "execution_count": null,
   "metadata": {},
   "outputs": [],
   "source": [
    "from data_loader.augmentation import get_train_augmentation, get_valid_augmentation\n",
    "from PIL import Image\n",
    "\n",
    "class TestDataset(SegmentationDataset):\n",
    "    def __init__(self, data_path, mode='train', image_size=240):\n",
    "        super().__init__(data_path, mode, image_size)\n",
    "        \n",
    "    def __getitem__(self, idx):\n",
    "        image_path = self.images[idx]\n",
    "        filename = image_path.split('/')[-1].replace('jpg', 'png')\n",
    "        mask_path = os.path.join(self.mask_path, filename)\n",
    "\n",
    "        image = np.array(Image.open(image_path).convert('RGB'), dtype=np.float32)\n",
    "        mask = np.array(Image.open(mask_path).convert('L'), dtype=np.float32)\n",
    "\n",
    "        # 전처리, augmentation\n",
    "        augmentation = self.aug(image=image, mask=mask)\n",
    "        image = augmentation['image'] / 255.0\n",
    "        mask = augmentation['mask']\n",
    "        mask[mask == 255.0] = 1.0   \n",
    "        mask = mask.unsqueeze(0)\n",
    "        return image, mask"
   ]
  },
  {
   "cell_type": "code",
   "execution_count": null,
   "metadata": {},
   "outputs": [
    {
     "name": "stdout",
     "output_type": "stream",
     "text": [
      "./data/images/val ./data/masks/val\n",
      "[0. 1. 2. 3.]\n",
      "torch.Size([3, 240, 240])\n",
      "torch.Size([1, 240, 240])\n"
     ]
    }
   ],
   "source": [
    "brain = TestDataset('./data', 'val', 240)\n",
    "img, mask = brain.__getitem__(5)\n",
    "print(img.shape)\n",
    "print(mask.shape)"
   ]
  },
  {
   "cell_type": "code",
   "execution_count": 80,
   "metadata": {},
   "outputs": [],
   "source": [
    "class MultiClassSegmentationDataset(SegmentationDataset):\n",
    "    def __init__(self, data_path, mode='train', image_size=240):\n",
    "        super().__init__(data_path=data_path,\n",
    "                         mode=mode,\n",
    "                         image_size=image_size)\n",
    "        \n",
    "    def __getitem__(self, idx):\n",
    "        image, mask = super().__getitem__(idx)\n",
    "        mask = mask.squeeze().to(torch.int64)\n",
    "        mask = F.one_hot(mask)\n",
    "        mask = mask.permute(2,0,1)\n",
    "        return image, mask"
   ]
  },
  {
   "cell_type": "code",
   "execution_count": 81,
   "metadata": {},
   "outputs": [
    {
     "name": "stdout",
     "output_type": "stream",
     "text": [
      "./data/images/train ./data/masks/train\n",
      "torch.Size([3, 240, 240])\n",
      "torch.Size([4, 240, 240])\n"
     ]
    }
   ],
   "source": [
    "brain_dataset = MultiClassSegmentationDataset(data_path='./data',\n",
    "                                            mode='train',\n",
    "                                            image_size=240)\n",
    "img, mask = brain_dataset.__getitem__(5)\n",
    "print(img.shape)\n",
    "print(mask.shape)\n"
   ]
  },
  {
   "cell_type": "code",
   "execution_count": 83,
   "metadata": {},
   "outputs": [
    {
     "data": {
      "text/plain": [
       "<matplotlib.image.AxesImage at 0x7fca662f53a0>"
      ]
     },
     "execution_count": 83,
     "metadata": {},
     "output_type": "execute_result"
    },
    {
     "data": {
      "image/png": "[encoded data removed]",
      "text/plain": [
       "<Figure size 640x480 with 1 Axes>"
      ]
     },
     "metadata": {},
     "output_type": "display_data"
    }
   ],
   "source": [
    "argmax_mask = torch.argmax(mask, dim=0)\n",
    "plt.imshow(argmax_mask, cmap='hot')"
   ]
  },
  {
   "cell_type": "markdown",
   "metadata": {},
   "source": []
  },
  {
   "attachments": {},
   "cell_type": "markdown",
   "metadata": {},
   "source": [
    "# Multiclass sementic segmentation"
   ]
  },
  {
   "cell_type": "code",
   "execution_count": null,
   "metadata": {},
   "outputs": [],
   "source": [
    "import torch"
   ]
  },
  {
   "cell_type": "code",
   "execution_count": 57,
   "metadata": {},
   "outputs": [
    {
     "name": "stdout",
     "output_type": "stream",
     "text": [
      "torch.Size([3, 3])\n",
      "torch.Size([3, 3])\n",
      "torch.Size([3, 3])\n",
      "torch.Size([3, 3])\n",
      "torch.Size([4, 3, 3])\n"
     ]
    }
   ],
   "source": [
    "cls_one = torch.tensor([[0,0,0], [0,1,0],[0,1,0]])\n",
    "print(cls_one.shape)\n",
    "cls_two = torch.tensor([[1,1,1], [0,0,0], [0,0,0]])\n",
    "print(cls_two.shape)\n",
    "cls_three = torch.tensor([[0,0,0], [1,0,0], [1,0,0]])\n",
    "print(cls_three.shape)\n",
    "cls_four = torch.tensor([[0,0,0], [0,0,1], [0,0,1]])\n",
    "print(cls_four.shape)\n",
    "sample_mask = torch.stack([cls_one, cls_two, cls_three, cls_four])\n",
    "print(sample_mask.shape)"
   ]
  },
  {
   "cell_type": "code",
   "execution_count": 58,
   "metadata": {},
   "outputs": [
    {
     "data": {
      "text/plain": [
       "tensor([[1, 1, 1],\n",
       "        [2, 0, 3],\n",
       "        [2, 0, 3]])"
      ]
     },
     "execution_count": 58,
     "metadata": {},
     "output_type": "execute_result"
    }
   ],
   "source": [
    "argmax_mask = torch.argmax(sample_mask, dim=0)\n",
    "argmax_mask"
   ]
  },
  {
   "cell_type": "code",
   "execution_count": 59,
   "metadata": {},
   "outputs": [
    {
     "data": {
      "text/plain": [
       "<matplotlib.image.AxesImage at 0x7fcaa0ce33a0>"
      ]
     },
     "execution_count": 59,
     "metadata": {},
     "output_type": "execute_result"
    },
    {
     "data": {
      "image/png": "[encoded data removed]",
      "text/plain": [
       "<Figure size 640x480 with 1 Axes>"
      ]
     },
     "metadata": {},
     "output_type": "display_data"
    }
   ],
   "source": [
    "plt.imshow(argmax_mask)"
   ]
  },
  {
   "cell_type": "code",
   "execution_count": 60,
   "metadata": {},
   "outputs": [
    {
     "name": "stdout",
     "output_type": "stream",
     "text": [
      "torch.Size([4, 3, 3])\n"
     ]
    },
    {
     "data": {
      "text/plain": [
       "tensor([[[0, 0, 0],\n",
       "         [0, 1, 0],\n",
       "         [0, 1, 0]],\n",
       "\n",
       "        [[1, 1, 1],\n",
       "         [0, 0, 0],\n",
       "         [0, 0, 0]],\n",
       "\n",
       "        [[0, 0, 0],\n",
       "         [1, 0, 0],\n",
       "         [1, 0, 0]],\n",
       "\n",
       "        [[0, 0, 0],\n",
       "         [0, 0, 1],\n",
       "         [0, 0, 1]]])"
      ]
     },
     "execution_count": 60,
     "metadata": {},
     "output_type": "execute_result"
    }
   ],
   "source": [
    "m = torch.nn.functional.one_hot(argmax_mask)\n",
    "preprocessed_m = m.permute(2,0,1)\n",
    "print(preprocessed_m.shape)\n",
    "preprocessed_m"
   ]
  },
  {
   "cell_type": "code",
   "execution_count": 79,
   "metadata": {},
   "outputs": [
    {
     "data": {
      "text/plain": [
       "torch.Size([4, 3, 3])"
      ]
     },
     "execution_count": 79,
     "metadata": {},
     "output_type": "execute_result"
    }
   ],
   "source": [
    "preprocessed_m.shape"
   ]
  }
 ],
 "metadata": {
  "kernelspec": {
   "display_name": "workspace",
   "language": "python",
   "name": "python3"
  },
  "language_info": {
   "codemirror_mode": {
    "name": "ipython",
    "version": 3
   },
   "file_extension": ".py",
   "mimetype": "text/x-python",
   "name": "python",
   "nbconvert_exporter": "python",
   "pygments_lexer": "ipython3",
   "version": "3.8.15"
  },
  "vscode": {
   "interpreter": {
    "hash": "f647993d80886dd17ec218bef2829c13d261ea982107d535c2781a6f32ed633b"
   }
  }
 },
 "nbformat": 4,
 "nbformat_minor": 2
}
